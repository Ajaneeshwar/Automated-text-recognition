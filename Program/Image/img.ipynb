{
 "cells": [
  {
   "cell_type": "markdown",
   "id": "07dd9793",
   "metadata": {},
   "source": [
    "# Extraction of Character from Images"
   ]
  },
  {
   "cell_type": "code",
   "execution_count": 2,
   "id": "cf20e65f",
   "metadata": {
    "scrolled": true
   },
   "outputs": [],
   "source": [
    "from tkinter import *\n",
    "from tkinter import filedialog\n",
    "from PIL import ImageTk, Image\n",
    "import cv2\n",
    "import pytesseract \n",
    "import matplotlib.pyplot as plt\n",
    "\n",
    "pytesseract.pytesseract.tesseract_cmd = 'C:\\\\Program Files\\\\Tesseract-OCR\\\\tesseract.exe'\n",
    "\n",
    "root = Tk()\n",
    "root.title('Text Extraction from Images')\n",
    "scrollbar = Scrollbar(root)\n",
    "scrollbar.pack( side = RIGHT, fill = Y )\n",
    "\n",
    "newline= Label(root)\n",
    "uploaded_img=Label(root)\n",
    "\n",
    "\n",
    "def imgextract(path):\n",
    "    img = cv2.imread(path)\n",
    "    Sample_img = cv2.resize(img,(400,350))\n",
    "\n",
    "    img2char = pytesseract.image_to_string(img)    \n",
    "    imgH, imgW, _ = img.shape  \n",
    "    imgbox = pytesseract.image_to_boxes(img)\n",
    "    for boxes in imgbox.splitlines():\n",
    "        boxes = boxes.split(' ')\n",
    "        x,y,w,h = int(boxes[1]),int(boxes[2]),int(boxes[3]),int(boxes[4])\n",
    "        cv2.rectangle(img,(x,imgH-y),(w,imgH-h),(255,50,0),1)\n",
    "\n",
    "    print(\"RESULT\\n\\n\\n\", img2char)\n",
    "    #plt.imshow(img)\n",
    "    #print(\"\\n\\n\\n\\n\\nBounding Box\\n\\n\",imgbox, \"\\n\\n\\n\\nBounding Box Output\")\n",
    "    return img2char, img, imgbox\n",
    "\n",
    "    \n",
    "\n",
    "\n",
    "def show_extract_button(path):\n",
    "    extractBtn= Button(root,text=\"Extract text\",command=lambda: imgextract(path),bg=\"#2f2f77\",fg=\"white\",pady=15,padx=15,font=('Times',15,'bold'))\n",
    "    extractBtn.pack()\n",
    "\n",
    "def upload():\n",
    "    try:\n",
    "        path=filedialog.askopenfilename()\n",
    "        image=Image.open(path)\n",
    "        img=ImageTk.PhotoImage(image)\n",
    "        uploaded_img.configure(image=img)\n",
    "        uploaded_img.image=img\n",
    "        show_extract_button(path)\n",
    "    except:\n",
    "        pass  \n",
    "\n",
    "uploadbtn = Button(root,text=\"Upload an image\",command=upload,bg=\"#2f2f77\",fg=\"white\",height=2,width=20,font=('Times',15,'bold')).pack()\n",
    "newline.configure(text='\\n')\n",
    "newline.pack()\n",
    "uploaded_img.pack()\n",
    "\n",
    "\n",
    "root.mainloop()"
   ]
  },
  {
   "cell_type": "code",
   "execution_count": null,
   "id": "6a0c49bf",
   "metadata": {},
   "outputs": [],
   "source": []
  }
 ],
 "metadata": {
  "kernelspec": {
   "display_name": "Python 3 (ipykernel)",
   "language": "python",
   "name": "python3"
  },
  "language_info": {
   "codemirror_mode": {
    "name": "ipython",
    "version": 3
   },
   "file_extension": ".py",
   "mimetype": "text/x-python",
   "name": "python",
   "nbconvert_exporter": "python",
   "pygments_lexer": "ipython3",
   "version": "3.9.13"
  }
 },
 "nbformat": 4,
 "nbformat_minor": 5
}
