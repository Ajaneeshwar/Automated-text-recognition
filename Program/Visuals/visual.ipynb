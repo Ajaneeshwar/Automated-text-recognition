{
 "cells": [
  {
   "cell_type": "markdown",
   "id": "aa5e9e36",
   "metadata": {},
   "source": [
    "# Extraction of character from Visuals"
   ]
  },
  {
   "cell_type": "code",
   "execution_count": null,
   "id": "5d9f950d",
   "metadata": {
    "scrolled": true
   },
   "outputs": [
    {
     "name": "stdout",
     "output_type": "stream",
     "text": [
      "Bir) = 17-02-2002\n",
      "Blood Group > A +VE\n",
      "Father's Mame\n",
      "\n",
      "Hajji Mohammed\n",
      "\n",
      "Address\n",
      "\n",
      "1H. RASHAD\n",
      "\n",
      "4/17, Konikarai Street,\n",
      "Therazhandur,\n",
      "Kuthatam (TH),\n",
      "\n",
      "  \n",
      "\n",
      " \n",
      "\n",
      " \n",
      "\f",
      " \n",
      "\n",
      "\n",
      " DEVELOPER @ RASHAD H\n"
     ]
    }
   ],
   "source": [
    "import pytesseract\n",
    "import cv2\n",
    "import matplotlib.pyplot as plt\n",
    "pytesseract.pytesseract.tesseract_cmd = r'C:\\Program Files\\Tesseract-OCR\\tesseract.exe'\n",
    "\n",
    "font_scale = 1.5\n",
    "font = cv2.FONT_HERSHEY_PLAIN\n",
    "\n",
    "cap = cv2.VideoCapture(1)\n",
    "\n",
    "if not cap.isOpened():\n",
    "    cap = cv2.VideoCapture(0)\n",
    "if not cap.isOpened():\n",
    "    raise IOError(\"Cannot open Camera\")\n",
    "    \n",
    "    \n",
    "cntr = 0;\n",
    "while True:\n",
    "    ret,frame = cap.read()\n",
    "    if((cntr%2)==0):\n",
    "        \n",
    "        imgH,imgW,_ = frame.shape\n",
    "        \n",
    "        x1,y1,w1,h1 = 0,0,imgH,imgW\n",
    "        \n",
    "        imgchar = pytesseract.image_to_string(frame)\n",
    "        \n",
    "        imgboxes = pytesseract.image_to_boxes(frame)\n",
    "        for boxes in imgboxes.splitlines():\n",
    "            boxes = boxes.split(' ')\n",
    "            x,y,w,h = int(boxes[1]),int(boxes[2]),int(boxes[3]),int(boxes[4])\n",
    "            cv2.rectangle(frame,(x,imgH-y),(w,imgH-h),(0,0,255),1)\n",
    "        \n",
    "        cv2.putText(frame, imgchar, (x1 + int(w1/50),y1 + int(h1/50)), cv2.FONT_HERSHEY_SIMPLEX, 0.7, (255,0,0), 2)\n",
    "        \n",
    "        font = cv2.FONT_HERSHEY_SIMPLEX\n",
    "        \n",
    "        \n",
    "        \n",
    "        cv2.imshow('Character Extraction form Visuals - Batch 7', frame)\n",
    "        \n",
    "        if cv2.waitKey(2) == ord('e'):\n",
    "            print(imgchar,\"\\n\\n\\n DEVELOPER @ RASHAD H\")\n",
    "\n",
    "        if cv2.waitKey(1) == ord('q'):\n",
    "            cv2.destroyAllWindows()            \n",
    "            break\n",
    "\n",
    "            \n",
    "cap.release()\n",
    "cv2.destroyAllWindows()"
   ]
  },
  {
   "cell_type": "code",
   "execution_count": null,
   "id": "6a1a2ddc",
   "metadata": {},
   "outputs": [],
   "source": []
  }
 ],
 "metadata": {
  "kernelspec": {
   "display_name": "Python 3 (ipykernel)",
   "language": "python",
   "name": "python3"
  },
  "language_info": {
   "codemirror_mode": {
    "name": "ipython",
    "version": 3
   },
   "file_extension": ".py",
   "mimetype": "text/x-python",
   "name": "python",
   "nbconvert_exporter": "python",
   "pygments_lexer": "ipython3",
   "version": "3.9.13"
  }
 },
 "nbformat": 4,
 "nbformat_minor": 5
}
