{
 "cells": [
  {
   "cell_type": "markdown",
   "id": "18af83d6",
   "metadata": {},
   "source": [
    "# Extraction of character from Video"
   ]
  },
  {
   "cell_type": "code",
   "execution_count": 3,
   "id": "7bb576cd",
   "metadata": {
    "scrolled": true
   },
   "outputs": [
    {
     "name": "stdout",
     "output_type": "stream",
     "text": [
      "Hello This i\n",
      "\f",
      "\n",
      "Hello This is Ra\n",
      "\f",
      "\n",
      "Hello This is Rashad,\n",
      "M.A.M. College of Engineering and\n",
      "Technology\n",
      "\n",
      "B.T\n",
      "\f",
      "\n",
      "Hello This is Rashad,\n",
      "M.A.M. College of Engineering and\n",
      "Technology\n",
      "\n",
      "B. Tec\n",
      "\f",
      "\n"
     ]
    },
    {
     "ename": "AttributeError",
     "evalue": "'NoneType' object has no attribute 'shape'",
     "output_type": "error",
     "traceback": [
      "\u001b[1;31m---------------------------------------------------------------------------\u001b[0m",
      "\u001b[1;31mAttributeError\u001b[0m                            Traceback (most recent call last)",
      "\u001b[1;32m~\\AppData\\Local\\Temp\\ipykernel_9228\\1380420511.py\u001b[0m in \u001b[0;36m<module>\u001b[1;34m\u001b[0m\n\u001b[0;32m     21\u001b[0m     \u001b[1;32mif\u001b[0m\u001b[1;33m(\u001b[0m\u001b[1;33m(\u001b[0m\u001b[0mcntr\u001b[0m\u001b[1;33m%\u001b[0m\u001b[1;36m8\u001b[0m\u001b[1;33m)\u001b[0m\u001b[1;33m==\u001b[0m\u001b[1;36m0\u001b[0m\u001b[1;33m)\u001b[0m\u001b[1;33m:\u001b[0m\u001b[1;33m\u001b[0m\u001b[1;33m\u001b[0m\u001b[0m\n\u001b[0;32m     22\u001b[0m \u001b[1;33m\u001b[0m\u001b[0m\n\u001b[1;32m---> 23\u001b[1;33m         \u001b[0mimgH\u001b[0m\u001b[1;33m,\u001b[0m\u001b[0mimgW\u001b[0m\u001b[1;33m,\u001b[0m\u001b[0m_\u001b[0m \u001b[1;33m=\u001b[0m \u001b[0mframe\u001b[0m\u001b[1;33m.\u001b[0m\u001b[0mshape\u001b[0m\u001b[1;33m\u001b[0m\u001b[1;33m\u001b[0m\u001b[0m\n\u001b[0m\u001b[0;32m     24\u001b[0m \u001b[1;33m\u001b[0m\u001b[0m\n\u001b[0;32m     25\u001b[0m         \u001b[0mx1\u001b[0m\u001b[1;33m,\u001b[0m\u001b[0my1\u001b[0m\u001b[1;33m,\u001b[0m\u001b[0mw1\u001b[0m\u001b[1;33m,\u001b[0m\u001b[0mh1\u001b[0m \u001b[1;33m=\u001b[0m \u001b[1;36m0\u001b[0m\u001b[1;33m,\u001b[0m\u001b[1;36m0\u001b[0m\u001b[1;33m,\u001b[0m\u001b[0mimgH\u001b[0m\u001b[1;33m,\u001b[0m\u001b[0mimgW\u001b[0m\u001b[1;33m\u001b[0m\u001b[1;33m\u001b[0m\u001b[0m\n",
      "\u001b[1;31mAttributeError\u001b[0m: 'NoneType' object has no attribute 'shape'"
     ]
    }
   ],
   "source": [
    "import pytesseract\n",
    "import cv2\n",
    "import matplotlib.pyplot as plt\n",
    "pytesseract.pytesseract.tesseract_cmd = r'C:\\Program Files\\Tesseract-OCR\\tesseract.exe'\n",
    "\n",
    "font_scale = 1.5\n",
    "font = cv2.FONT_HERSHEY_PLAIN\n",
    "\n",
    "cap = cv2.VideoCapture(\"test.mp4\")\n",
    "\n",
    "if not cap.isOpened():\n",
    "    cap = cv2.VideoCapture(0)\n",
    "if not cap.isOpened():\n",
    "    raise IOError(\"Cannot open Video\")\n",
    "    \n",
    "    \n",
    "cntr = 0;\n",
    "while True:\n",
    "    ret,frame = cap.read()\n",
    "    cntr =cntr+1;\n",
    "    if((cntr%8)==0):\n",
    "        \n",
    "        imgH,imgW,_ = frame.shape\n",
    "        \n",
    "        x1,y1,w1,h1 = 0,0,imgH,imgW\n",
    "        \n",
    "        imgchar = pytesseract.image_to_string(frame)\n",
    "        \n",
    "        imgboxes = pytesseract.image_to_boxes(frame)\n",
    "        for boxes in imgboxes.splitlines():\n",
    "            boxes = boxes.split(' ')\n",
    "            x,y,w,h = int(boxes[1]),int(boxes[2]),int(boxes[3]),int(boxes[4])\n",
    "            cv2.rectangle(frame,(x,imgH-y),(w,imgH-h),(0,0,255),3)\n",
    "        \n",
    "        cv2.putText(frame, imgchar, (x1 + int(w1/50),y1 + int(h1/50)), cv2.FONT_HERSHEY_SIMPLEX, 0.7, (0,0,255), 1)\n",
    "        \n",
    "        \n",
    "        font = cv2.FONT_HERSHEY_SIMPLEX\n",
    "        \n",
    "        \n",
    "        \n",
    "        cv2.imshow('Character Extraction form video - Batch 7', frame)\n",
    "        \n",
    "        if cv2.waitKey(2) == ord('e'):\n",
    "            print(imgchar)\n",
    "\n",
    "        if cv2.waitKey(1) == ord('q'):\n",
    "            break\n",
    "\n",
    "            \n",
    "cap.release()\n",
    "cv2.destroyAllWindows()"
   ]
  },
  {
   "cell_type": "code",
   "execution_count": null,
   "id": "5fd27626",
   "metadata": {},
   "outputs": [],
   "source": []
  }
 ],
 "metadata": {
  "kernelspec": {
   "display_name": "Python 3 (ipykernel)",
   "language": "python",
   "name": "python3"
  },
  "language_info": {
   "codemirror_mode": {
    "name": "ipython",
    "version": 3
   },
   "file_extension": ".py",
   "mimetype": "text/x-python",
   "name": "python",
   "nbconvert_exporter": "python",
   "pygments_lexer": "ipython3",
   "version": "3.9.13"
  }
 },
 "nbformat": 4,
 "nbformat_minor": 5
}
